{
 "cells": [
  {
   "cell_type": "markdown",
   "metadata": {},
   "source": [
    "# Setup"
   ]
  },
  {
   "cell_type": "code",
   "execution_count": 1,
   "metadata": {},
   "outputs": [],
   "source": [
    "import numpy as np\n",
    "import pandas as pd"
   ]
  },
  {
   "cell_type": "code",
   "execution_count": 2,
   "metadata": {},
   "outputs": [],
   "source": [
    "def display_df(df, n=1, title=None):\n",
    "    if title:\n",
    "        print(title + ':')\n",
    "    display(df.head(n), df.tail(n), df.shape)"
   ]
  },
  {
   "cell_type": "code",
   "execution_count": 3,
   "metadata": {},
   "outputs": [],
   "source": [
    "data_raw_dir = '../data/raw/'\n",
    "data_interim_dir = '../data/interim/'"
   ]
  },
  {
   "cell_type": "markdown",
   "metadata": {},
   "source": [
    "# Read and Process Datasets"
   ]
  },
  {
   "cell_type": "code",
   "execution_count": 4,
   "metadata": {},
   "outputs": [],
   "source": [
    "def process_seeds(df):\n",
    "    \"\"\"Process tournament seed file\"\"\"\n",
    "    return (\n",
    "        df\n",
    "        .assign(Seed=df.Seed.map(lambda s: int(s[1:3])))\n",
    "        .assign(IsPlayIn=df.Seed.map(lambda s: str(s).endswith('a') or str(s).endswith('b')))\n",
    "    )\n",
    "\n",
    "\n",
    "def process_games(df):\n",
    "    \"\"\"Process tournament game file\"\"\"\n",
    "    \n",
    "    def _standardize_team_ID(row):\n",
    "        \"\"\"TBD\"\"\"\n",
    "        if row.WTeamID < row.LTeamID:\n",
    "            row.TeamOneID = row.WTeamID\n",
    "            row.TeamTwoID = row.LTeamID\n",
    "        else:\n",
    "            row.TeamOneID = row.LTeamID\n",
    "            row.TeamTwoID = row.WTeamID\n",
    "        return row\n",
    "\n",
    "    def _create_labels(row):\n",
    "        \"\"\"TBD\"\"\"\n",
    "        if row.TeamOneID == row.WTeamID:\n",
    "            row.Label = 1\n",
    "        else:\n",
    "            row.Label = 0\n",
    "        return row\n",
    "    \n",
    "    return (\n",
    "        df\n",
    "        .assign(\n",
    "            TeamOneID=np.nan,\n",
    "            TeamTwoID=np.nan,\n",
    "            Label=np.nan\n",
    "        )\n",
    "        .apply(_standardize_team_ID, axis=1)\n",
    "        .apply(_create_labels, axis=1)\n",
    "        .drop(['WTeamID', 'LTeamID', 'DayNum', 'WScore', 'LScore', 'WLoc', 'NumOT'], axis=1)\n",
    "    )\n",
    "\n",
    "\n",
    "def process_submission_games(df):\n",
    "    \"\"\"Process tournament game submission file\"\"\"\n",
    "    return (\n",
    "        df\n",
    "        .assign(\n",
    "            Season=df.ID.str.split('_', expand=True)[0].astype(int),    \n",
    "            TeamOneID=df.ID.str.split('_', expand=True)[1].astype(int),\n",
    "            TeamTwoID=df.ID.str.split('_', expand=True)[2].astype(int),\n",
    "    )\n",
    "    .drop(['ID', 'Pred'], axis=1)\n",
    ")"
   ]
  },
  {
   "cell_type": "code",
   "execution_count": 5,
   "metadata": {},
   "outputs": [],
   "source": [
    "# Read in seeds\n",
    "df_seeds = (\n",
    "    pd.read_csv(data_raw_dir + 'DataFiles/NCAATourneySeeds.csv')\n",
    "    .pipe(process_seeds)\n",
    ")\n",
    "\n",
    "# Read in tournament games\n",
    "df_games = (\n",
    "    pd.read_csv(data_raw_dir + 'DataFiles/NCAATourneyCompactResults.csv')\n",
    "    .pipe(process_games)\n",
    ")\n",
    "\n",
    "# Read in submission games\n",
    "df_sub = (\n",
    "    pd.read_csv(data_raw_dir + 'SampleSubmissionStage1.csv')\n",
    "    .pipe(process_submission_games)\n",
    ")"
   ]
  },
  {
   "cell_type": "code",
   "execution_count": 9,
   "metadata": {},
   "outputs": [],
   "source": [
    "# display_df(df_seeds, title=\"Seeds\")\n",
    "# display_df(df_games, title=\"Games\")\n",
    "# display_df(df_sub, title=\"SubmissionGames\")"
   ]
  },
  {
   "cell_type": "markdown",
   "metadata": {},
   "source": [
    "# Merge Datasets"
   ]
  },
  {
   "cell_type": "code",
   "execution_count": 12,
   "metadata": {},
   "outputs": [],
   "source": [
    "def merge_seed_dataset(df, df_seeds, submission_file):\n",
    "    \"\"\"TBD\"\"\"\n",
    "    df = (\n",
    "        df\n",
    "        .merge(df_seeds.rename(index=str, columns={'TeamID': 'TeamOneID'}), on=['Season', 'TeamOneID'])\n",
    "        .rename(index=str, columns={'Seed': 'TeamOneSeed', 'IsPlayIn': 'TeamOneIsPlayIn'})\n",
    "        .merge(df_seeds.rename(index=str, columns={'TeamID': 'TeamTwoID'}), on=['Season', 'TeamTwoID'])\n",
    "        .rename(index=str, columns={'Seed': 'TeamTwoSeed', 'IsPlayIn': 'TeamTwoIsPlayIn'})  \n",
    "    )\n",
    "    \n",
    "    if not(submission_file):\n",
    "        df = df.loc[~(df.TeamOneIsPlayIn & df.TeamTwoIsPlayIn)]  # remove play-in games \n",
    "    \n",
    "    return df.drop(['TeamOneIsPlayIn', 'TeamTwoIsPlayIn'], axis=1)"
   ]
  },
  {
   "cell_type": "code",
   "execution_count": 13,
   "metadata": {},
   "outputs": [],
   "source": [
    "# Merge tournament games with seeds\n",
    "df_interim_mdl = (\n",
    "    df_games\n",
    "    .pipe(merge_seed_dataset, df_seeds=df_seeds, submission_file=False)\n",
    ")\n",
    "\n",
    "# Merge submission games with seeds\n",
    "df_interim_sub = (\n",
    "    df_sub\n",
    "    .pipe(merge_seed_dataset, df_seeds=df_seeds, submission_file=True)\n",
    ")"
   ]
  },
  {
   "cell_type": "code",
   "execution_count": 18,
   "metadata": {},
   "outputs": [],
   "source": [
    "# display_df(df_interim_mdl)\n",
    "# display_df(df_interim_sub)"
   ]
  },
  {
   "cell_type": "markdown",
   "metadata": {},
   "source": [
    "# Create Features"
   ]
  },
  {
   "cell_type": "code",
   "execution_count": 15,
   "metadata": {},
   "outputs": [],
   "source": [
    "def create_seedDiff_feat(df):\n",
    "    return (\n",
    "        df\n",
    "        .assign(SeedDiff=df.TeamOneSeed - df.TeamTwoSeed)\n",
    "    )"
   ]
  },
  {
   "cell_type": "code",
   "execution_count": 16,
   "metadata": {},
   "outputs": [],
   "source": [
    "# Create features for modeling dataset\n",
    "df_interim_mdl = (\n",
    "    df_interim_mdl\n",
    "    .pipe(create_seedDiff_feat)\n",
    ")\n",
    "\n",
    "# Create features for submission dataset\n",
    "df_interim_sub = (\n",
    "    df_interim_sub\n",
    "    .pipe(create_seedDiff_feat)\n",
    ")"
   ]
  },
  {
   "cell_type": "code",
   "execution_count": 19,
   "metadata": {},
   "outputs": [
    {
     "name": "stdout",
     "output_type": "stream",
     "text": [
      "Games:\n"
     ]
    },
    {
     "data": {
      "text/html": [
       "<div>\n",
       "<style scoped>\n",
       "    .dataframe tbody tr th:only-of-type {\n",
       "        vertical-align: middle;\n",
       "    }\n",
       "\n",
       "    .dataframe tbody tr th {\n",
       "        vertical-align: top;\n",
       "    }\n",
       "\n",
       "    .dataframe thead th {\n",
       "        text-align: right;\n",
       "    }\n",
       "</style>\n",
       "<table border=\"1\" class=\"dataframe\">\n",
       "  <thead>\n",
       "    <tr style=\"text-align: right;\">\n",
       "      <th></th>\n",
       "      <th>Season</th>\n",
       "      <th>Label</th>\n",
       "      <th>TeamOneID</th>\n",
       "      <th>TeamTwoID</th>\n",
       "      <th>TeamOneSeed</th>\n",
       "      <th>TeamTwoSeed</th>\n",
       "      <th>SeedDiff</th>\n",
       "    </tr>\n",
       "  </thead>\n",
       "  <tbody>\n",
       "    <tr>\n",
       "      <th>0</th>\n",
       "      <td>1985</td>\n",
       "      <td>1</td>\n",
       "      <td>1116</td>\n",
       "      <td>1234</td>\n",
       "      <td>9</td>\n",
       "      <td>8</td>\n",
       "      <td>1</td>\n",
       "    </tr>\n",
       "    <tr>\n",
       "      <th>1</th>\n",
       "      <td>1985</td>\n",
       "      <td>0</td>\n",
       "      <td>1116</td>\n",
       "      <td>1385</td>\n",
       "      <td>9</td>\n",
       "      <td>1</td>\n",
       "      <td>8</td>\n",
       "    </tr>\n",
       "  </tbody>\n",
       "</table>\n",
       "</div>"
      ],
      "text/plain": [
       "   Season  Label  TeamOneID  TeamTwoID  TeamOneSeed  TeamTwoSeed  SeedDiff\n",
       "0    1985      1       1116       1234            9            8         1\n",
       "1    1985      0       1116       1385            9            1         8"
      ]
     },
     "metadata": {},
     "output_type": "display_data"
    },
    {
     "data": {
      "text/html": [
       "<div>\n",
       "<style scoped>\n",
       "    .dataframe tbody tr th:only-of-type {\n",
       "        vertical-align: middle;\n",
       "    }\n",
       "\n",
       "    .dataframe tbody tr th {\n",
       "        vertical-align: top;\n",
       "    }\n",
       "\n",
       "    .dataframe thead th {\n",
       "        text-align: right;\n",
       "    }\n",
       "</style>\n",
       "<table border=\"1\" class=\"dataframe\">\n",
       "  <thead>\n",
       "    <tr style=\"text-align: right;\">\n",
       "      <th></th>\n",
       "      <th>Season</th>\n",
       "      <th>Label</th>\n",
       "      <th>TeamOneID</th>\n",
       "      <th>TeamTwoID</th>\n",
       "      <th>TeamOneSeed</th>\n",
       "      <th>TeamTwoSeed</th>\n",
       "      <th>SeedDiff</th>\n",
       "    </tr>\n",
       "  </thead>\n",
       "  <tbody>\n",
       "    <tr>\n",
       "      <th>2182</th>\n",
       "      <td>2018</td>\n",
       "      <td>1</td>\n",
       "      <td>1243</td>\n",
       "      <td>1420</td>\n",
       "      <td>9</td>\n",
       "      <td>16</td>\n",
       "      <td>-7</td>\n",
       "    </tr>\n",
       "    <tr>\n",
       "      <th>2183</th>\n",
       "      <td>2018</td>\n",
       "      <td>0</td>\n",
       "      <td>1243</td>\n",
       "      <td>1260</td>\n",
       "      <td>9</td>\n",
       "      <td>11</td>\n",
       "      <td>-2</td>\n",
       "    </tr>\n",
       "  </tbody>\n",
       "</table>\n",
       "</div>"
      ],
      "text/plain": [
       "      Season  Label  TeamOneID  TeamTwoID  TeamOneSeed  TeamTwoSeed  SeedDiff\n",
       "2182    2018      1       1243       1420            9           16        -7\n",
       "2183    2018      0       1243       1260            9           11        -2"
      ]
     },
     "metadata": {},
     "output_type": "display_data"
    },
    {
     "data": {
      "text/plain": [
       "(2142, 7)"
      ]
     },
     "metadata": {},
     "output_type": "display_data"
    },
    {
     "name": "stdout",
     "output_type": "stream",
     "text": [
      "Submissin Games:\n"
     ]
    },
    {
     "data": {
      "text/html": [
       "<div>\n",
       "<style scoped>\n",
       "    .dataframe tbody tr th:only-of-type {\n",
       "        vertical-align: middle;\n",
       "    }\n",
       "\n",
       "    .dataframe tbody tr th {\n",
       "        vertical-align: top;\n",
       "    }\n",
       "\n",
       "    .dataframe thead th {\n",
       "        text-align: right;\n",
       "    }\n",
       "</style>\n",
       "<table border=\"1\" class=\"dataframe\">\n",
       "  <thead>\n",
       "    <tr style=\"text-align: right;\">\n",
       "      <th></th>\n",
       "      <th>Season</th>\n",
       "      <th>TeamOneID</th>\n",
       "      <th>TeamTwoID</th>\n",
       "      <th>TeamOneSeed</th>\n",
       "      <th>TeamTwoSeed</th>\n",
       "      <th>SeedDiff</th>\n",
       "    </tr>\n",
       "  </thead>\n",
       "  <tbody>\n",
       "    <tr>\n",
       "      <th>0</th>\n",
       "      <td>2014</td>\n",
       "      <td>1107</td>\n",
       "      <td>1110</td>\n",
       "      <td>16</td>\n",
       "      <td>15</td>\n",
       "      <td>1</td>\n",
       "    </tr>\n",
       "    <tr>\n",
       "      <th>1</th>\n",
       "      <td>2014</td>\n",
       "      <td>1107</td>\n",
       "      <td>1112</td>\n",
       "      <td>16</td>\n",
       "      <td>1</td>\n",
       "      <td>15</td>\n",
       "    </tr>\n",
       "  </tbody>\n",
       "</table>\n",
       "</div>"
      ],
      "text/plain": [
       "   Season  TeamOneID  TeamTwoID  TeamOneSeed  TeamTwoSeed  SeedDiff\n",
       "0    2014       1107       1110           16           15         1\n",
       "1    2014       1107       1112           16            1        15"
      ]
     },
     "metadata": {},
     "output_type": "display_data"
    },
    {
     "data": {
      "text/html": [
       "<div>\n",
       "<style scoped>\n",
       "    .dataframe tbody tr th:only-of-type {\n",
       "        vertical-align: middle;\n",
       "    }\n",
       "\n",
       "    .dataframe tbody tr th {\n",
       "        vertical-align: top;\n",
       "    }\n",
       "\n",
       "    .dataframe thead th {\n",
       "        text-align: right;\n",
       "    }\n",
       "</style>\n",
       "<table border=\"1\" class=\"dataframe\">\n",
       "  <thead>\n",
       "    <tr style=\"text-align: right;\">\n",
       "      <th></th>\n",
       "      <th>Season</th>\n",
       "      <th>TeamOneID</th>\n",
       "      <th>TeamTwoID</th>\n",
       "      <th>TeamOneSeed</th>\n",
       "      <th>TeamTwoSeed</th>\n",
       "      <th>SeedDiff</th>\n",
       "    </tr>\n",
       "  </thead>\n",
       "  <tbody>\n",
       "    <tr>\n",
       "      <th>11388</th>\n",
       "      <td>2018</td>\n",
       "      <td>1455</td>\n",
       "      <td>1462</td>\n",
       "      <td>4</td>\n",
       "      <td>1</td>\n",
       "      <td>3</td>\n",
       "    </tr>\n",
       "    <tr>\n",
       "      <th>11389</th>\n",
       "      <td>2018</td>\n",
       "      <td>1460</td>\n",
       "      <td>1462</td>\n",
       "      <td>14</td>\n",
       "      <td>1</td>\n",
       "      <td>13</td>\n",
       "    </tr>\n",
       "  </tbody>\n",
       "</table>\n",
       "</div>"
      ],
      "text/plain": [
       "       Season  TeamOneID  TeamTwoID  TeamOneSeed  TeamTwoSeed  SeedDiff\n",
       "11388    2018       1455       1462            4            1         3\n",
       "11389    2018       1460       1462           14            1        13"
      ]
     },
     "metadata": {},
     "output_type": "display_data"
    },
    {
     "data": {
      "text/plain": [
       "(11390, 6)"
      ]
     },
     "metadata": {},
     "output_type": "display_data"
    }
   ],
   "source": [
    "display_df(df_interim_mdl, n=2, title=\"Games\")\n",
    "display_df(df_interim_sub, n=2, title=\"Submissin Games\")"
   ]
  },
  {
   "cell_type": "code",
   "execution_count": 20,
   "metadata": {},
   "outputs": [],
   "source": [
    "# Save datasets\n",
    "df_interim_mdl.to_csv(data_interim_dir + 'model_dataset.csv', index=False)\n",
    "df_interim_sub.to_csv(data_interim_dir + 'submission_dataset.csv', index=False)"
   ]
  }
 ],
 "metadata": {
  "kernelspec": {
   "display_name": "Python 3",
   "language": "python",
   "name": "python3"
  },
  "language_info": {
   "codemirror_mode": {
    "name": "ipython",
    "version": 3
   },
   "file_extension": ".py",
   "mimetype": "text/x-python",
   "name": "python",
   "nbconvert_exporter": "python",
   "pygments_lexer": "ipython3",
   "version": "3.5.4"
  },
  "toc": {
   "colors": {
    "hover_highlight": "#DAA520",
    "navigate_num": "#000000",
    "navigate_text": "#333333",
    "running_highlight": "#FF0000",
    "selected_highlight": "#FFD700",
    "sidebar_border": "#EEEEEE",
    "wrapper_background": "#FFFFFF"
   },
   "moveMenuLeft": true,
   "nav_menu": {
    "height": "82px",
    "width": "252px"
   },
   "navigate_menu": true,
   "number_sections": true,
   "sideBar": true,
   "threshold": 4,
   "toc_cell": false,
   "toc_section_display": "block",
   "toc_window_display": false,
   "widenNotebook": false
  }
 },
 "nbformat": 4,
 "nbformat_minor": 2
}
