{
 "cells": [
  {
   "cell_type": "markdown",
   "metadata": {},
   "source": [
    "# Setup"
   ]
  },
  {
   "cell_type": "code",
   "execution_count": 56,
   "metadata": {},
   "outputs": [],
   "source": [
    "import pdb\n",
    "import pickle\n",
    "import sys"
   ]
  },
  {
   "cell_type": "code",
   "execution_count": 79,
   "metadata": {},
   "outputs": [],
   "source": [
    "%reload_ext autoreload\n",
    "%autoreload 2\n",
    "\n",
    "src_path = \"/Users/aarontrefler_temp2/Documents/My Documents/Kaggle/ncaa-men-19/src\"\n",
    "sys.path.insert(0, src_path)\n",
    "\n",
    "import models.model_utils as model\n",
    "import utils\n",
    "\n",
    "pd.options.display.max_columns = 999"
   ]
  },
  {
   "cell_type": "code",
   "execution_count": 123,
   "metadata": {},
   "outputs": [],
   "source": [
    "# Read in fitted model\n",
    "f = open(utils.project_path + 'models/gridcv.model', 'rb')\n",
    "gridcv = pickle.load(f)\n",
    "f.close()"
   ]
  },
  {
   "cell_type": "code",
   "execution_count": 124,
   "metadata": {},
   "outputs": [],
   "source": [
    "# Read in clean modeling dataset\n",
    "data_clean_dir = utils.project_path + 'data/clean/'\n",
    "df_clean_mdl = (pd.read_csv(data_clean_dir + 'model_dataset.csv'))"
   ]
  },
  {
   "cell_type": "markdown",
   "metadata": {},
   "source": [
    "# Cross Validation Results"
   ]
  },
  {
   "cell_type": "code",
   "execution_count": 125,
   "metadata": {},
   "outputs": [
    {
     "data": {
      "text/plain": [
       "{'max_depth': None,\n",
       " 'min_samples_split': 87,\n",
       " 'n_estimators': 1000,\n",
       " 'random_state': 3}"
      ]
     },
     "metadata": {},
     "output_type": "display_data"
    }
   ],
   "source": [
    "# Best hyper-parameters\n",
    "display(gridcv.best_params_)"
   ]
  },
  {
   "cell_type": "code",
   "execution_count": 126,
   "metadata": {},
   "outputs": [
    {
     "data": {
      "text/html": [
       "<div>\n",
       "<style scoped>\n",
       "    .dataframe tbody tr th:only-of-type {\n",
       "        vertical-align: middle;\n",
       "    }\n",
       "\n",
       "    .dataframe tbody tr th {\n",
       "        vertical-align: top;\n",
       "    }\n",
       "\n",
       "    .dataframe thead th {\n",
       "        text-align: right;\n",
       "    }\n",
       "</style>\n",
       "<table border=\"1\" class=\"dataframe\">\n",
       "  <thead>\n",
       "    <tr style=\"text-align: right;\">\n",
       "      <th></th>\n",
       "      <th>mean_fit_time</th>\n",
       "      <th>mean_score_time</th>\n",
       "      <th>mean_test_accuracy</th>\n",
       "      <th>mean_test_neg_log_loss</th>\n",
       "      <th>mean_train_accuracy</th>\n",
       "      <th>mean_train_neg_log_loss</th>\n",
       "      <th>param_max_depth</th>\n",
       "      <th>param_min_samples_split</th>\n",
       "      <th>param_n_estimators</th>\n",
       "      <th>param_random_state</th>\n",
       "      <th>params</th>\n",
       "      <th>rank_test_accuracy</th>\n",
       "      <th>rank_test_neg_log_loss</th>\n",
       "      <th>split0_test_accuracy</th>\n",
       "      <th>split0_test_neg_log_loss</th>\n",
       "      <th>split0_train_accuracy</th>\n",
       "      <th>split0_train_neg_log_loss</th>\n",
       "      <th>std_fit_time</th>\n",
       "      <th>std_score_time</th>\n",
       "      <th>std_test_accuracy</th>\n",
       "      <th>std_test_neg_log_loss</th>\n",
       "      <th>std_train_accuracy</th>\n",
       "      <th>std_train_neg_log_loss</th>\n",
       "    </tr>\n",
       "  </thead>\n",
       "  <tbody>\n",
       "    <tr>\n",
       "      <th>2</th>\n",
       "      <td>1.809114</td>\n",
       "      <td>0.166180</td>\n",
       "      <td>0.711111</td>\n",
       "      <td>-0.579199</td>\n",
       "      <td>0.788725</td>\n",
       "      <td>-0.476164</td>\n",
       "      <td>None</td>\n",
       "      <td>87</td>\n",
       "      <td>1000</td>\n",
       "      <td>3</td>\n",
       "      <td>{'random_state': 3, 'n_estimators': 1000, 'max...</td>\n",
       "      <td>2</td>\n",
       "      <td>1</td>\n",
       "      <td>0.711111</td>\n",
       "      <td>-0.579199</td>\n",
       "      <td>0.788725</td>\n",
       "      <td>-0.476164</td>\n",
       "      <td>0.0</td>\n",
       "      <td>0.0</td>\n",
       "      <td>0.0</td>\n",
       "      <td>0.0</td>\n",
       "      <td>0.0</td>\n",
       "      <td>0.0</td>\n",
       "    </tr>\n",
       "    <tr>\n",
       "      <th>3</th>\n",
       "      <td>1.708724</td>\n",
       "      <td>0.159516</td>\n",
       "      <td>0.711111</td>\n",
       "      <td>-0.579409</td>\n",
       "      <td>0.787630</td>\n",
       "      <td>-0.481630</td>\n",
       "      <td>None</td>\n",
       "      <td>100</td>\n",
       "      <td>1000</td>\n",
       "      <td>3</td>\n",
       "      <td>{'random_state': 3, 'n_estimators': 1000, 'max...</td>\n",
       "      <td>2</td>\n",
       "      <td>2</td>\n",
       "      <td>0.711111</td>\n",
       "      <td>-0.579409</td>\n",
       "      <td>0.787630</td>\n",
       "      <td>-0.481630</td>\n",
       "      <td>0.0</td>\n",
       "      <td>0.0</td>\n",
       "      <td>0.0</td>\n",
       "      <td>0.0</td>\n",
       "      <td>0.0</td>\n",
       "      <td>0.0</td>\n",
       "    </tr>\n",
       "    <tr>\n",
       "      <th>1</th>\n",
       "      <td>1.822802</td>\n",
       "      <td>0.175028</td>\n",
       "      <td>0.717460</td>\n",
       "      <td>-0.579607</td>\n",
       "      <td>0.795840</td>\n",
       "      <td>-0.470883</td>\n",
       "      <td>None</td>\n",
       "      <td>75</td>\n",
       "      <td>1000</td>\n",
       "      <td>3</td>\n",
       "      <td>{'random_state': 3, 'n_estimators': 1000, 'max...</td>\n",
       "      <td>1</td>\n",
       "      <td>3</td>\n",
       "      <td>0.717460</td>\n",
       "      <td>-0.579607</td>\n",
       "      <td>0.795840</td>\n",
       "      <td>-0.470883</td>\n",
       "      <td>0.0</td>\n",
       "      <td>0.0</td>\n",
       "      <td>0.0</td>\n",
       "      <td>0.0</td>\n",
       "      <td>0.0</td>\n",
       "      <td>0.0</td>\n",
       "    </tr>\n",
       "    <tr>\n",
       "      <th>0</th>\n",
       "      <td>1.886288</td>\n",
       "      <td>0.167808</td>\n",
       "      <td>0.711111</td>\n",
       "      <td>-0.581327</td>\n",
       "      <td>0.808976</td>\n",
       "      <td>-0.456110</td>\n",
       "      <td>None</td>\n",
       "      <td>50</td>\n",
       "      <td>1000</td>\n",
       "      <td>3</td>\n",
       "      <td>{'random_state': 3, 'n_estimators': 1000, 'max...</td>\n",
       "      <td>2</td>\n",
       "      <td>4</td>\n",
       "      <td>0.711111</td>\n",
       "      <td>-0.581327</td>\n",
       "      <td>0.808976</td>\n",
       "      <td>-0.456110</td>\n",
       "      <td>0.0</td>\n",
       "      <td>0.0</td>\n",
       "      <td>0.0</td>\n",
       "      <td>0.0</td>\n",
       "      <td>0.0</td>\n",
       "      <td>0.0</td>\n",
       "    </tr>\n",
       "  </tbody>\n",
       "</table>\n",
       "</div>"
      ],
      "text/plain": [
       "   mean_fit_time  mean_score_time  mean_test_accuracy  mean_test_neg_log_loss  \\\n",
       "2       1.809114         0.166180            0.711111               -0.579199   \n",
       "3       1.708724         0.159516            0.711111               -0.579409   \n",
       "1       1.822802         0.175028            0.717460               -0.579607   \n",
       "0       1.886288         0.167808            0.711111               -0.581327   \n",
       "\n",
       "   mean_train_accuracy  mean_train_neg_log_loss param_max_depth  \\\n",
       "2             0.788725                -0.476164            None   \n",
       "3             0.787630                -0.481630            None   \n",
       "1             0.795840                -0.470883            None   \n",
       "0             0.808976                -0.456110            None   \n",
       "\n",
       "  param_min_samples_split param_n_estimators param_random_state  \\\n",
       "2                      87               1000                  3   \n",
       "3                     100               1000                  3   \n",
       "1                      75               1000                  3   \n",
       "0                      50               1000                  3   \n",
       "\n",
       "                                              params  rank_test_accuracy  \\\n",
       "2  {'random_state': 3, 'n_estimators': 1000, 'max...                   2   \n",
       "3  {'random_state': 3, 'n_estimators': 1000, 'max...                   2   \n",
       "1  {'random_state': 3, 'n_estimators': 1000, 'max...                   1   \n",
       "0  {'random_state': 3, 'n_estimators': 1000, 'max...                   2   \n",
       "\n",
       "   rank_test_neg_log_loss  split0_test_accuracy  split0_test_neg_log_loss  \\\n",
       "2                       1              0.711111                 -0.579199   \n",
       "3                       2              0.711111                 -0.579409   \n",
       "1                       3              0.717460                 -0.579607   \n",
       "0                       4              0.711111                 -0.581327   \n",
       "\n",
       "   split0_train_accuracy  split0_train_neg_log_loss  std_fit_time  \\\n",
       "2               0.788725                  -0.476164           0.0   \n",
       "3               0.787630                  -0.481630           0.0   \n",
       "1               0.795840                  -0.470883           0.0   \n",
       "0               0.808976                  -0.456110           0.0   \n",
       "\n",
       "   std_score_time  std_test_accuracy  std_test_neg_log_loss  \\\n",
       "2             0.0                0.0                    0.0   \n",
       "3             0.0                0.0                    0.0   \n",
       "1             0.0                0.0                    0.0   \n",
       "0             0.0                0.0                    0.0   \n",
       "\n",
       "   std_train_accuracy  std_train_neg_log_loss  \n",
       "2                 0.0                     0.0  \n",
       "3                 0.0                     0.0  \n",
       "1                 0.0                     0.0  \n",
       "0                 0.0                     0.0  "
      ]
     },
     "metadata": {},
     "output_type": "display_data"
    }
   ],
   "source": [
    "display(pd.DataFrame(gridcv.cv_results_).sort_values('rank_test_neg_log_loss'))"
   ]
  },
  {
   "cell_type": "markdown",
   "metadata": {},
   "source": [
    "# Feature Importances"
   ]
  },
  {
   "cell_type": "code",
   "execution_count": 131,
   "metadata": {},
   "outputs": [
    {
     "data": {
      "image/png": "[encoded data removed]",
      "text/plain": [
       "<matplotlib.figure.Figure at 0x117a641d0>"
      ]
     },
     "metadata": {},
     "output_type": "display_data"
    }
   ],
   "source": [
    "(\n",
    "    pd.Series(gridcv.best_estimator_.feature_importances_, index=df_clean_mdl[model.get_features(df_clean_mdl)].columns)\n",
    "    .nlargest(n=10)  # top 10\n",
    "    .sort_values()\n",
    "    .plot(kind='barh', figsize=(15, 5), fontsize=10, title='Top 10 Features')\n",
    ")\n",
    "plt.show()"
   ]
  },
  {
   "cell_type": "code",
   "execution_count": null,
   "metadata": {},
   "outputs": [],
   "source": []
  }
 ],
 "metadata": {
  "kernelspec": {
   "display_name": "Python 3",
   "language": "python",
   "name": "python3"
  },
  "language_info": {
   "codemirror_mode": {
    "name": "ipython",
    "version": 3
   },
   "file_extension": ".py",
   "mimetype": "text/x-python",
   "name": "python",
   "nbconvert_exporter": "python",
   "pygments_lexer": "ipython3",
   "version": "3.5.4"
  },
  "toc": {
   "colors": {
    "hover_highlight": "#DAA520",
    "navigate_num": "#000000",
    "navigate_text": "#333333",
    "running_highlight": "#FF0000",
    "selected_highlight": "#FFD700",
    "sidebar_border": "#EEEEEE",
    "wrapper_background": "#FFFFFF"
   },
   "moveMenuLeft": true,
   "nav_menu": {
    "height": "82px",
    "width": "252px"
   },
   "navigate_menu": true,
   "number_sections": true,
   "sideBar": true,
   "threshold": 4,
   "toc_cell": false,
   "toc_section_display": "block",
   "toc_window_display": false,
   "widenNotebook": false
  }
 },
 "nbformat": 4,
 "nbformat_minor": 2
}
